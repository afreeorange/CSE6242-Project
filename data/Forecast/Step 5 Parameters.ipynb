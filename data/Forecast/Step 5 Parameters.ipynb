{
 "cells": [
  {
   "cell_type": "code",
   "execution_count": 1,
   "metadata": {},
   "outputs": [],
   "source": [
    "import pandas as pd\n",
    "import pickle\n",
    "import sqlite3\n",
    "import numpy as np"
   ]
  },
  {
   "cell_type": "code",
   "execution_count": 2,
   "metadata": {},
   "outputs": [],
   "source": [
    "opt_RF = pickle.load(open('random_forest.sav', 'rb'))\n",
    "data = pd.read_csv('output_gdp0_pop0.csv')"
   ]
  },
  {
   "cell_type": "code",
   "execution_count": 3,
   "metadata": {},
   "outputs": [
    {
     "name": "stdout",
     "output_type": "stream",
     "text": [
      "load maps? y/ny\n"
     ]
    }
   ],
   "source": [
    "if input(\"load maps? y/n\") == 'y':\n",
    "    gdp = pd.read_csv('gdp_mapped.csv')\n",
    "    pop = pd.read_csv('pop_mapped.csv')"
   ]
  },
  {
   "cell_type": "code",
   "execution_count": 4,
   "metadata": {},
   "outputs": [],
   "source": [
    "countries = data.loc[:, 'Area'].unique()"
   ]
  },
  {
   "cell_type": "code",
   "execution_count": 5,
   "metadata": {},
   "outputs": [],
   "source": [
    "All = slice(None)\n",
    "\n",
    "pop_c = 'Total population'\n",
    "cult = 'Cultivated area (arable land + permanent crops)'\n",
    "gdp_c = 'Gross Domestic Product (GDP)'\n",
    "trsw = 'Total renewable surface water'\n",
    "tfw = 'Total freshwater withdrawal (primary and secondary)'\n",
    "trwr = 'Total renewable water resources'\n",
    "efr = 'Environmental Flow Requirements'\n",
    "wsi = 'SDG 6.4.2. Water Stress'\n",
    "\n",
    "preds = [cult, gdp_c, pop_c, trsw]\n",
    "\n",
    "trwr_id = 4188\n",
    "efr_id = 4549"
   ]
  },
  {
   "cell_type": "code",
   "execution_count": 6,
   "metadata": {},
   "outputs": [],
   "source": [
    "data.set_index(['Area', 'YearBin'], inplace=True)\n",
    "data.loc[(All, [2020, 2025, 2030]), [gdp_c, pop_c, tfw, wsi]] = None"
   ]
  },
  {
   "cell_type": "code",
   "execution_count": 7,
   "metadata": {},
   "outputs": [],
   "source": [
    "pop.set_index('mapped', inplace=True)\n",
    "gdp.set_index('mapped', inplace=True)"
   ]
  },
  {
   "cell_type": "code",
   "execution_count": 8,
   "metadata": {},
   "outputs": [],
   "source": [
    "def forecast(start, rate, years):\n",
    "    return start*(1+rate/100)**years"
   ]
  },
  {
   "cell_type": "code",
   "execution_count": 9,
   "metadata": {},
   "outputs": [],
   "source": [
    "def parm_output(data, gdp_delta, pop_delta):\n",
    "    new_data = data.copy()\n",
    "\n",
    "    All = slice(None)\n",
    "    col_pop = 'Total population'\n",
    "    for name, group in new_data.groupby('Area'):\n",
    "        last_val = group.at[(name, 2015), col_pop]\n",
    "        rate = pop.at[name, 'POPULATION'] + pop_delta\n",
    "        new_data.at[(name, 2020), col_pop] = forecast(last_val, rate, 5)\n",
    "        new_data.at[(name, 2025), col_pop] = forecast(last_val, rate, 10)\n",
    "        new_data.at[(name, 2030), col_pop] = forecast(last_val, rate, 15)\n",
    "\n",
    "    col_gdp = 'Gross Domestic Product (GDP)'\n",
    "    world_gdp = 3.2\n",
    "    for name, group in new_data.groupby('Area'):\n",
    "        last_val = group.at[(name, 2015), col_gdp]\n",
    "        if name in gdp.index:\n",
    "            rate = gdp.at[name, 'gdp_rate'] + gdp_delta\n",
    "        else:\n",
    "            rate = world_gdp + gdp_delta\n",
    "        new_data.at[(name, 2020), col_gdp] = forecast(last_val, rate, 5)\n",
    "        new_data.at[(name, 2025), col_gdp] = forecast(last_val, rate, 10)\n",
    "        new_data.at[(name, 2030), col_gdp] = forecast(last_val, rate, 15)\n",
    "\n",
    "    new_data = new_data.loc[(~new_data.loc[:,pop_c].isna()) &\n",
    "                    (~new_data.loc[:, cult].isna()),:]\n",
    "\n",
    "    tfw_preds = opt_RF.predict(new_data.loc[(All, [2020, 2025, 2030]), preds].values)\n",
    "    new_data.loc[(All, [2020, 2025, 2030]), tfw] = tfw_preds\n",
    "\n",
    "    new_data[wsi] = 100*new_data[tfw]/(new_data[trwr] - new_data[efr])\n",
    "\n",
    "    new_data.dropna(axis=0, inplace=True)\n",
    "    return new_data"
   ]
  },
  {
   "cell_type": "code",
   "execution_count": 10,
   "metadata": {},
   "outputs": [],
   "source": [
    "final_output = pd.DataFrame(index=data.index)\n",
    "\n",
    "gdp_parms = [-2, 0, 2]\n",
    "pop_parms = [-2, 0, 2]\n",
    "for g in gdp_parms:\n",
    "    for p in pop_parms:\n",
    "        new_data = parm_output(data, g, p)\n",
    "        final_output[f\"gdp{g}_pop{p}\"] = new_data[wsi]"
   ]
  },
  {
   "cell_type": "code",
   "execution_count": 11,
   "metadata": {
    "scrolled": true
   },
   "outputs": [],
   "source": [
    "final_output.loc[(All, [2020, 2025, 2030]), :].to_csv('final_output.csv')\n",
    "final_output.to_csv('final_output_all_years.csv')"
   ]
  },
  {
   "cell_type": "code",
   "execution_count": null,
   "metadata": {},
   "outputs": [],
   "source": []
  }
 ],
 "metadata": {
  "kernelspec": {
   "display_name": "Python 3",
   "language": "python",
   "name": "python3"
  },
  "language_info": {
   "codemirror_mode": {
    "name": "ipython",
    "version": 3
   },
   "file_extension": ".py",
   "mimetype": "text/x-python",
   "name": "python",
   "nbconvert_exporter": "python",
   "pygments_lexer": "ipython3",
   "version": "3.6.1"
  }
 },
 "nbformat": 4,
 "nbformat_minor": 2
}
