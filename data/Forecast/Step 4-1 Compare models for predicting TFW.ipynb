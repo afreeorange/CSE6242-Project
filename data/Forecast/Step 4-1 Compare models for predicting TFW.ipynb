{
 "cells": [
  {
   "cell_type": "code",
   "execution_count": 5,
   "metadata": {},
   "outputs": [],
   "source": [
    "import numpy as np\n",
    "import pandas as pd\n",
    "import sqlite3\n",
    "from sklearn.linear_model import LinearRegression\n",
    "from sklearn.neural_network import MLPClassifier\n",
    "from sklearn.ensemble import RandomForestRegressor\n",
    "from sklearn.model_selection import cross_val_score, GridSearchCV, cross_validate, train_test_split\n",
    "from sklearn.metrics import mean_squared_error, r2_score\n",
    "from sklearn.preprocessing import OneHotEncoder"
   ]
  },
  {
   "cell_type": "code",
   "execution_count": 6,
   "metadata": {},
   "outputs": [],
   "source": [
    "All = slice(None)\n",
    "\n",
    "pop = 'Total population'\n",
    "cult = 'Cultivated area (arable land + permanent crops)'\n",
    "gdp = 'Gross Domestic Product (GDP)'\n",
    "trsw = 'Total renewable surface water'\n",
    "tfw = 'Total freshwater withdrawal (primary and secondary)'\n",
    "trwr = 'Total renewable water resources'\n",
    "efr = 'Environmental Flow Requirements'\n",
    "wsi = 'SDG 6.4.2. Water Stress'\n",
    "\n",
    "preds = [cult, gdp, pop, trsw]\n",
    "\n",
    "trwr_id = 4188\n",
    "efr_id = 4549"
   ]
  },
  {
   "cell_type": "code",
   "execution_count": 7,
   "metadata": {},
   "outputs": [],
   "source": [
    "data = pd.read_csv('training_data_arima.csv')\n",
    "df_model = data.copy()\n",
    "data.set_index(['Area', 'YearBin'], inplace=True)"
   ]
  },
  {
   "cell_type": "code",
   "execution_count": 8,
   "metadata": {},
   "outputs": [
    {
     "name": "stdout",
     "output_type": "stream",
     "text": [
      "1336\n"
     ]
    }
   ],
   "source": [
    "# df_model.columns = df_model.columns.droplevel()\n",
    "df_model.rename(columns={'Cultivated area (arable land + permanent crops)':'cultivated_area', 'Gross Domestic Product (GDP)':'GDP', 'Total freshwater withdrawal (primary and secondary)':'TFW', 'Total population':'total_population', 'Total renewable surface water':'TRSW'}, inplace=True)\n",
    "df_model.rename_axis(None, inplace=True)\n",
    "\n",
    "# Remove rows that contains NaN\n",
    "df_model.dropna(inplace=True)\n",
    "print(len(df_model.index))"
   ]
  },
  {
   "cell_type": "code",
   "execution_count": 9,
   "metadata": {},
   "outputs": [
    {
     "name": "stderr",
     "output_type": "stream",
     "text": [
      "/Users/hyelim_yang/opt/anaconda3/envs/py37/lib/python3.7/site-packages/sklearn/ensemble/forest.py:245: FutureWarning: The default value of n_estimators will change from 10 in version 0.20 to 100 in 0.22.\n",
      "  \"10 in version 0.20 to 100 in 0.22.\", FutureWarning)\n"
     ]
    },
    {
     "name": "stdout",
     "output_type": "stream",
     "text": [
      "{'max_depth': 15, 'n_estimators': 30}\n",
      "0.9385050033887423\n",
      "Training MSE: 31.90\n",
      "Test MSE: 284.07\n",
      "Training adj R2: 0.99\n",
      "Test adj R2: 0.95\n"
     ]
    }
   ],
   "source": [
    "x_data = df_model[['cultivated_area', 'GDP', 'total_population', 'TRSW',]]\n",
    "y_data = df_model['TFW']\n",
    "\n",
    "## One-hot encoding\n",
    "# enc = OneHotEncoder(handle_unknown='ignore')\n",
    "# x_data = enc.fit_transform(x_data)\n",
    "\n",
    "## Split data\n",
    "x_train, x_test, y_train, y_test = train_test_split(x_data, y_data, train_size=0.75, random_state=100, shuffle=True)\n",
    "\n",
    "## Build a random forest regressor\n",
    "random = 100\n",
    "RF_clf = RandomForestRegressor(bootstrap=True, criterion='mse',random_state=random)\n",
    "RF_clf.fit(x_train, y_train)\n",
    "RF_param_grid = {\"n_estimators\":[10, 20, 30,  50,100], \"max_depth\": [5, 10, 15, 20, None]}\n",
    "\n",
    "## Optimize the randomForest regressor\n",
    "RF_grid_search = GridSearchCV(RF_clf, param_grid=RF_param_grid, n_jobs=-1, cv=3)\n",
    "RF_grid_search.fit(x_train, y_train)\n",
    "print(RF_grid_search.best_params_)\n",
    "print(RF_grid_search.best_score_)\n",
    "\n",
    "## Define optimum randomForest regressor\n",
    "opt_RF = RandomForestRegressor(bootstrap=True, criterion='mse',random_state=random, n_estimators=RF_grid_search.best_params_['n_estimators'], max_depth=RF_grid_search.best_params_['max_depth'])\n",
    "opt_RF.fit(x_train, y_train)\n",
    "RF_tr_pred = opt_RF.predict(x_train)\n",
    "print(\"Training MSE: %.2f\" %mean_squared_error(y_train, RF_tr_pred))\n",
    "RF_test_pred = opt_RF.predict(x_test)\n",
    "print(\"Test MSE: %.2f\" %mean_squared_error(y_test, RF_test_pred))\n",
    "\n",
    "## Calculate adjusted R-squared\n",
    "# n1 = number of data points for training set\n",
    "# n2 = number of data points for test set\n",
    "# p = number of predictors / attributes\n",
    "n1 = len(y_train)\n",
    "p=4\n",
    "n2 = len(y_test)\n",
    "train_adj_r2 = 1-(1-r2_score(y_train, RF_tr_pred))*(n1-1)/(n1-p-1)\n",
    "test_adj_r2 = 1-(1-r2_score(y_test, RF_test_pred))*(n2-1)/(n2-p-1)\n",
    "print(\"Training adj R2: %.2f\" %train_adj_r2) \n",
    "print(\"Test adj R2: %.2f\" %test_adj_r2) "
   ]
  },
  {
   "cell_type": "code",
   "execution_count": 11,
   "metadata": {},
   "outputs": [
    {
     "name": "stdout",
     "output_type": "stream",
     "text": [
      "0.8470083971930287\n",
      "{'C': 1.0, 'epsilon': 0.15, 'kernel': 'linear'}\n"
     ]
    },
    {
     "name": "stderr",
     "output_type": "stream",
     "text": [
      "/Users/hyelim_yang/opt/anaconda3/envs/py37/lib/python3.7/site-packages/sklearn/model_selection/_search.py:814: DeprecationWarning: The default of the `iid` parameter will change from True to False in version 0.22 and will be removed in 0.24. This will change numeric results when test-set sizes are unequal.\n",
      "  DeprecationWarning)\n"
     ]
    }
   ],
   "source": [
    "## SVM regressor\n",
    "from sklearn.svm import SVR\n",
    "from sklearn.preprocessing import StandardScaler, normalize\n",
    "\n",
    "# scale data\n",
    "scaler = StandardScaler()\n",
    "scaler_fit = scaler.fit(x_train)\n",
    "s_x_train = scaler_fit.transform(x_train)\n",
    "s_x_test = scaler_fit.transform(x_test)\n",
    "\n",
    "# Build a SVM regressor\n",
    "SVM = SVR()\n",
    "SVM.fit(s_x_train, y_train)\n",
    "\n",
    "# Hyper-tunning parameter\n",
    "SVM_grid = {\"C\":[0.01, 0.1, 1.0, 10, 100.0], \"kernel\": ['linear', 'rbf', 'poly', 'sigmoid'], \"epsilon\":[0.01, 0.05, 0.1, 0.15]}\n",
    "SVM_search = GridSearchCV(SVM, param_grid=SVM_grid, n_jobs=-1, cv=10)\n",
    "SVM_search.fit(s_x_train, y_train)\n",
    "print(SVM_search.best_score_)\n",
    "print(SVM_search.best_params_)"
   ]
  },
  {
   "cell_type": "code",
   "execution_count": 14,
   "metadata": {},
   "outputs": [
    {
     "name": "stdout",
     "output_type": "stream",
     "text": [
      "Training MSE: 499.69\n",
      "Test MSE: 772.72\n"
     ]
    }
   ],
   "source": [
    "# build the optimal SVM model\n",
    "opt_SVM = SVR(C=SVM_search.best_params_['C'], kernel=SVM_search.best_params_['kernel'], epsilon=SVM_search.best_params_[\"epsilon\"])\n",
    "opt_SVM.fit(s_x_train, y_train)\n",
    "opt_SVM_y_tr_pred = opt_SVM.predict(s_x_train)\n",
    "opt_SVM_y_test_pred = opt_SVM.predict(s_x_test)\n",
    "print(\"Training MSE: %.2f\" %mean_squared_error(y_train, opt_SVM_y_tr_pred))\n",
    "print(\"Test MSE: %.2f\" %mean_squared_error(y_test, opt_SVM_y_test_pred))"
   ]
  },
  {
   "cell_type": "code",
   "execution_count": 20,
   "metadata": {},
   "outputs": [
    {
     "name": "stderr",
     "output_type": "stream",
     "text": [
      "/Users/hyelim_yang/opt/anaconda3/envs/py37/lib/python3.7/site-packages/sklearn/neural_network/multilayer_perceptron.py:566: ConvergenceWarning: Stochastic Optimizer: Maximum iterations (200) reached and the optimization hasn't converged yet.\n",
      "  % self.max_iter, ConvergenceWarning)\n"
     ]
    },
    {
     "name": "stdout",
     "output_type": "stream",
     "text": [
      "0.8914547968703199\n",
      "{'activation': 'relu', 'alpha': 1e-05, 'hidden_layer_sizes': (5,), 'learning_rate': 'constant', 'solver': 'lbfgs'}\n"
     ]
    },
    {
     "name": "stderr",
     "output_type": "stream",
     "text": [
      "/Users/hyelim_yang/opt/anaconda3/envs/py37/lib/python3.7/site-packages/sklearn/model_selection/_search.py:814: DeprecationWarning: The default of the `iid` parameter will change from True to False in version 0.22 and will be removed in 0.24. This will change numeric results when test-set sizes are unequal.\n",
      "  DeprecationWarning)\n"
     ]
    }
   ],
   "source": [
    "# ANN \n",
    "from sklearn.neural_network import MLPRegressor\n",
    "\n",
    "# Build a SVM regressor\n",
    "ANN = MLPRegressor(random_state=100)\n",
    "ANN.fit(s_x_train, y_train)\n",
    "\n",
    "# Hyper-tunning parameter\n",
    "# one layer case\n",
    "ANN_grid_1 = {\"activation\":['logistic', 'tanh', 'relu'], \"solver\": ['lbfgs', 'sgd', 'adam'], \"alpha\":[0.0001, 10**(-5), 10**(-3)],\n",
    "           \"learning_rate\":['constant','invscaling','adaptive'], \"hidden_layer_sizes\": [(5,), (3,), (7,), (10,)]}\n",
    "ANN_search = GridSearchCV(ANN, param_grid=ANN_grid_1, n_jobs=-1, cv=10)\n",
    "ANN_search.fit(s_x_train, y_train)\n",
    "print(ANN_search.best_score_)\n",
    "print(ANN_search.best_params_)\n",
    "\n"
   ]
  },
  {
   "cell_type": "code",
   "execution_count": 22,
   "metadata": {},
   "outputs": [
    {
     "name": "stdout",
     "output_type": "stream",
     "text": [
      "0.8717033008608985\n",
      "{'activation': 'relu', 'alpha': 0.001, 'hidden_layer_sizes': (5, 3), 'learning_rate': 'constant', 'solver': 'lbfgs'}\n"
     ]
    },
    {
     "name": "stderr",
     "output_type": "stream",
     "text": [
      "/Users/hyelim_yang/opt/anaconda3/envs/py37/lib/python3.7/site-packages/sklearn/model_selection/_search.py:814: DeprecationWarning: The default of the `iid` parameter will change from True to False in version 0.22 and will be removed in 0.24. This will change numeric results when test-set sizes are unequal.\n",
      "  DeprecationWarning)\n"
     ]
    }
   ],
   "source": [
    "# Hyper-tunning parameter\n",
    "# two layers case\n",
    "ANN_grid_2 = {\"activation\":['logistic', 'tanh', 'relu'], \"solver\": ['lbfgs', 'sgd', 'adam'], \"alpha\":[0.0001, 10**(-5), 10**(-3)],\n",
    "           \"learning_rate\":['constant','invscaling','adaptive'], \"hidden_layer_sizes\": [(5,3), (5,2), (5,1), (7,1), (3,1)]}\n",
    "ANN_search2 = GridSearchCV(ANN, param_grid=ANN_grid_2, n_jobs=-1, cv=10)\n",
    "ANN_search2.fit(s_x_train, y_train)\n",
    "print(ANN_search2.best_score_)\n",
    "print(ANN_search2.best_params_)"
   ]
  },
  {
   "cell_type": "code",
   "execution_count": 18,
   "metadata": {},
   "outputs": [
    {
     "name": "stderr",
     "output_type": "stream",
     "text": [
      "/Users/hyelim_yang/opt/anaconda3/envs/py37/lib/python3.7/site-packages/sklearn/model_selection/_search.py:814: DeprecationWarning: The default of the `iid` parameter will change from True to False in version 0.22 and will be removed in 0.24. This will change numeric results when test-set sizes are unequal.\n",
      "  DeprecationWarning)\n"
     ]
    },
    {
     "name": "stdout",
     "output_type": "stream",
     "text": [
      "0.8691051784450886\n",
      "{'activation': 'relu', 'alpha': 0.0001, 'hidden_layer_sizes': (5, 2, 1), 'learning_rate': 'invscaling', 'solver': 'sgd'}\n"
     ]
    }
   ],
   "source": [
    "# Hyper-tunning parameter\n",
    "# three layers case\n",
    "ANN_grid_3 = {\"activation\":['logistic', 'tanh', 'relu'], \"solver\": ['lbfgs', 'sgd', 'adam'], \"alpha\":[0.0001, 10**(-5), 10**(-3)],\n",
    "           \"learning_rate\":['constant','invscaling','adaptive'], \"hidden_layer_sizes\": [(5,3,2), (5,3,3), (5,3,1), (5,2,1), (5,2,2), (5,1,1)]}\n",
    "ANN_search3 = GridSearchCV(ANN, param_grid=ANN_grid_3, n_jobs=-1, cv=10, random_state=100)\n",
    "ANN_search3.fit(s_x_train, y_train)\n",
    "print(ANN_search3.best_score_)\n",
    "print(ANN_search3.best_params_)"
   ]
  },
  {
   "cell_type": "code",
   "execution_count": 23,
   "metadata": {},
   "outputs": [
    {
     "name": "stdout",
     "output_type": "stream",
     "text": [
      "Training MSE: 246.92\n",
      "Test MSE: 236.64\n"
     ]
    }
   ],
   "source": [
    "# build the optimal ANN model\n",
    "opt_ANN = MLPRegressor(activation=ANN_search.best_params_['activation'], alpha=ANN_search.best_params_['alpha'], \n",
    "                       hidden_layer_sizes=ANN_search.best_params_[\"hidden_layer_sizes\"],\n",
    "                      learning_rate=ANN_search.best_params_['learning_rate'],\n",
    "                      solver=ANN_search.best_params_['solver'], random_state=100)\n",
    "opt_ANN.fit(s_x_train, y_train)\n",
    "opt_ANN_y_tr_pred = opt_ANN.predict(s_x_train)\n",
    "opt_ANN_y_test_pred = opt_ANN.predict(s_x_test)\n",
    "print(\"Training MSE: %.2f\" %mean_squared_error(y_train, opt_ANN_y_tr_pred))\n",
    "print(\"Test MSE: %.2f\" %mean_squared_error(y_test, opt_ANN_y_test_pred))"
   ]
  },
  {
   "cell_type": "code",
   "execution_count": null,
   "metadata": {},
   "outputs": [],
   "source": []
  }
 ],
 "metadata": {
  "kernelspec": {
   "display_name": "Python 3",
   "language": "python",
   "name": "python3"
  },
  "language_info": {
   "codemirror_mode": {
    "name": "ipython",
    "version": 3
   },
   "file_extension": ".py",
   "mimetype": "text/x-python",
   "name": "python",
   "nbconvert_exporter": "python",
   "pygments_lexer": "ipython3",
   "version": "3.7.5"
  }
 },
 "nbformat": 4,
 "nbformat_minor": 2
}
