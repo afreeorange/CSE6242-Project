{
 "cells": [
  {
   "cell_type": "code",
   "execution_count": 100,
   "metadata": {},
   "outputs": [],
   "source": [
    "import pandas as pd\n",
    "import sqlite3\n",
    "import numpy as np\n",
    "from itertools import product\n",
    "pd.set_option(\"display.max_columns\", 500)"
   ]
  },
  {
   "cell_type": "code",
   "execution_count": 69,
   "metadata": {},
   "outputs": [],
   "source": [
    "data = pd.read_csv('training_data.csv')"
   ]
  },
  {
   "cell_type": "code",
   "execution_count": 72,
   "metadata": {},
   "outputs": [],
   "source": [
    "countries = data.loc[:, 'Area'].unique()"
   ]
  },
  {
   "cell_type": "code",
   "execution_count": 211,
   "metadata": {},
   "outputs": [],
   "source": [
    "gdp = pd.read_excel('countries_gdp.xlsx')\n",
    "pop = pd.read_excel('population_growth.xlsx')\n",
    "\n",
    "gdp.sort_values(by='country', inplace=True)\n",
    "pop.sort_values(by='COUNTRY', inplace=True)"
   ]
  },
  {
   "cell_type": "code",
   "execution_count": 23,
   "metadata": {
    "collapsed": true
   },
   "outputs": [
    {
     "name": "stdout",
     "output_type": "stream",
     "text": [
      "American Samoa[note 1]nan\n",
      "BoliviaBolivia (Plurinational State of)\n",
      "Cape VerdeCabo Verde\n",
      "Czech RepublicCzechia\n",
      "Hong Kongnan\n",
      "IranIran (Islamic Republic of)\n",
      "Ivory Coastnan\n",
      "Kiribatinan\n",
      "Kosovonan\n",
      "LaosLao People's Democratic Republic\n",
      "Macaunan\n",
      "Marshall IslandsMarshall Islands\n",
      "Marshall Islandsnan\n",
      "MicronesiaMicronesia (Federated States of)\n",
      "Micronesianan\n",
      "Moldovanan\n",
      "MontenegroMontenegro\n",
      "Montenegronan\n",
      "Naurunan\n",
      "Palaunan\n",
      "Palestinenan\n",
      "Puerto Rico[note 2]Puerto Rico\n",
      "Republic of CongoCongo\n",
      "RussiaRussian Federation\n",
      "San MarinoSan Marino\n",
      "San Marinonan\n",
      "SeychellesSeychelles\n",
      "Seychellesnan\n",
      "Solomon Islandsnan\n",
      "South Korea\n",
      "South KoreaRepublic of Korea\n",
      "São Tomé and PríncipeSao Tome and Principe\n",
      "Taiwannan\n",
      "TanzaniaUnited Republic of Tanzania\n",
      "The BahamasBahamas\n",
      "The Bahamasnan\n",
      "The GambiaGambia\n",
      "Timor LesteTimor-Leste\n",
      "Tonganan\n",
      "Tuvalunan\n",
      "United StatesUnited States of America\n",
      "Vanuatunan\n",
      "VenezuelaVenezuela (Bolivarian Republic of)\n",
      "VietnamViet Nam\n"
     ]
    }
   ],
   "source": [
    "gdp_map = {}\n",
    "for c in gdp.itertuples():\n",
    "    if c.country in countries:\n",
    "        gdp_map[c.country] = c.country\n",
    "    else:\n",
    "        while gdp_map.get(c.country) not in countries and gdp_map.get(c.country) != 'nan':\n",
    "            gdp_map[c.country] = input(c.country)"
   ]
  },
  {
   "cell_type": "code",
   "execution_count": 268,
   "metadata": {},
   "outputs": [],
   "source": [
    "gdp['mapped'] = gdp['country'].apply(lambda x: gdp_map.get(x, 'nan'))\n",
    "gdp = gdp.loc[gdp.loc[:,'mapped']!='nan',:]\n",
    "gdp.to_csv('gdp_mapped.csv', index=False)"
   ]
  },
  {
   "cell_type": "code",
   "execution_count": 33,
   "metadata": {
    "collapsed": true
   },
   "outputs": [
    {
     "name": "stdout",
     "output_type": "stream",
     "text": [
      "Andorranan\n",
      "Bahamasnan\n",
      "BoliviaBolivia (Plurinational State of)\n",
      "BruneiBrunei Darussalam\n",
      "BurmaMyanmar\n",
      "Cape VerdeCabo Verde\n",
      "Czech RepublicCzechia\n",
      "East TimorTimor-Leste\n",
      "IranIran (Islamic Republic of)\n",
      "Ivory Coastnan\n",
      "Kiribatinan\n",
      "LaosLao People's Democratic Republic\n",
      "Liechtensteinnan\n",
      "Marshall Islandsnan\n",
      "MicronesiaMicronesia (Federated States of)\n",
      "MicronesianN\n",
      "Micronesianan\n",
      "MoldovaRepublic of Moldova\n",
      "Monaconan\n",
      "Montenegronan\n",
      "Naurunan\n",
      "North KoreaDemocratic People's Republic of Korea\n",
      "Palaunan\n",
      "Palestine/Gaza StripOccupied Palestinian Territory\n",
      "RussiaRussian Federation\n",
      "Samoanan\n",
      "San MarinoSan Marino\n",
      "San Marinonan\n",
      "SeychellesSeychelles\n",
      "Seychellesnan\n",
      "Solomon Islandsnan\n",
      "South KoreaRepublic of Korea\n",
      "SyriaSyrian Arab Republic\n",
      "São Tomé and PríncipeSao Tome and Principe\n",
      "Taiwannan\n",
      "TanzaniaUnited Republic of Tanzania\n",
      "Tonga\n",
      "Tonganan\n",
      "Tuvalunan\n",
      "United StatesUnited States of America\n",
      "Vanuatunan\n",
      "Vatican Citynan\n",
      "VenezuelaVenezuela (Bolivarian Republic of)\n",
      "VietnamViet Nam\n",
      "Western Sahara(Sahrawi)nan\n"
     ]
    }
   ],
   "source": [
    "pop_map = {}\n",
    "for c in pop.itertuples():\n",
    "    if c.COUNTRY in countries:\n",
    "        pop_map[c.COUNTRY] = c.COUNTRY\n",
    "    else:\n",
    "        while pop_map.get(c.COUNTRY) not in countries and pop_map.get(c.COUNTRY) != 'nan':\n",
    "            pop_map[c.COUNTRY] = input(c.COUNTRY)"
   ]
  },
  {
   "cell_type": "code",
   "execution_count": 269,
   "metadata": {},
   "outputs": [],
   "source": [
    "pop['mapped'] = pop['COUNTRY'].apply(lambda x: pop_map.get(x, 'nan'))\n",
    "pop = pop.loc[pop.loc[:,'mapped']!='nan',:]\n",
    "pop.to_csv('pop_mapped.csv', index=False)"
   ]
  },
  {
   "cell_type": "code",
   "execution_count": 214,
   "metadata": {},
   "outputs": [
    {
     "data": {
      "text/plain": [
       "((177, 3), (174, 3), 167)"
      ]
     },
     "execution_count": 214,
     "metadata": {},
     "output_type": "execute_result"
    }
   ],
   "source": [
    "pop.shape, gdp.shape, len(countries)"
   ]
  },
  {
   "cell_type": "code",
   "execution_count": 215,
   "metadata": {},
   "outputs": [],
   "source": [
    "pop.set_index('mapped', inplace=True)\n",
    "gdp.set_index('mapped', inplace=True)"
   ]
  },
  {
   "cell_type": "code",
   "execution_count": 234,
   "metadata": {},
   "outputs": [],
   "source": [
    "pop['POPULATION'] = pop['POPULATION'].apply(lambda x: float(\"-\" + x[1:]) if \"−\" in str(x) else x)"
   ]
  },
  {
   "cell_type": "code",
   "execution_count": 98,
   "metadata": {},
   "outputs": [],
   "source": [
    "years = np.concatenate([data['YearBin'].unique(),[2020, 2025, 2030]])"
   ]
  },
  {
   "cell_type": "code",
   "execution_count": 238,
   "metadata": {},
   "outputs": [],
   "source": [
    "def forecast(start, rate, years):\n",
    "    return start*(1+rate/100)**years"
   ]
  },
  {
   "cell_type": "code",
   "execution_count": 260,
   "metadata": {},
   "outputs": [],
   "source": [
    "new_data = pd.DataFrame(list(product(countries, years)), columns = ['Area', 'YearBin'])\n",
    "new_data.set_index(['Area', 'YearBin'], inplace=True)\n",
    "new_data = new_data.join(data.set_index(['Area', 'YearBin']), how='left')"
   ]
  },
  {
   "cell_type": "code",
   "execution_count": 261,
   "metadata": {},
   "outputs": [],
   "source": [
    "All = slice(None)\n",
    "col_pop = 'Total population'\n",
    "for name, group in new_data.groupby('Area'):\n",
    "    last_val = group.at[(name, 2015), col_pop]\n",
    "    rate = pop.at[name, 'POPULATION']\n",
    "    new_data.at[(name, 2020), col_pop] = forecast(last_val, rate, 5)\n",
    "    new_data.at[(name, 2025), col_pop] = forecast(last_val, rate, 10)\n",
    "    new_data.at[(name, 2030), col_pop] = forecast(last_val, rate, 15)"
   ]
  },
  {
   "cell_type": "code",
   "execution_count": 262,
   "metadata": {},
   "outputs": [
    {
     "name": "stdout",
     "output_type": "stream",
     "text": [
      "Bhutan\n",
      "Cuba\n",
      "Syrian Arab Republic\n"
     ]
    }
   ],
   "source": [
    "col_gdp = 'Gross Domestic Product (GDP)'\n",
    "world_gdp = 3.2\n",
    "for name, group in new_data.groupby('Area'):\n",
    "    last_val = group.at[(name, 2015), col_gdp]\n",
    "    if name in gdp.index:\n",
    "        rate = gdp.at[name, 'gdp_rate']\n",
    "    else:\n",
    "        print(name)\n",
    "        rate = world_gdp\n",
    "    new_data.at[(name, 2020), col_gdp] = forecast(last_val, rate, 5)\n",
    "    new_data.at[(name, 2025), col_gdp] = forecast(last_val, rate, 10)\n",
    "    new_data.at[(name, 2030), col_gdp] = forecast(last_val, rate, 15)"
   ]
  },
  {
   "cell_type": "code",
   "execution_count": 263,
   "metadata": {
    "scrolled": false
   },
   "outputs": [
    {
     "data": {
      "text/html": [
       "<div>\n",
       "<style scoped>\n",
       "    .dataframe tbody tr th:only-of-type {\n",
       "        vertical-align: middle;\n",
       "    }\n",
       "\n",
       "    .dataframe tbody tr th {\n",
       "        vertical-align: top;\n",
       "    }\n",
       "\n",
       "    .dataframe thead th {\n",
       "        text-align: right;\n",
       "    }\n",
       "</style>\n",
       "<table border=\"1\" class=\"dataframe\">\n",
       "  <thead>\n",
       "    <tr style=\"text-align: right;\">\n",
       "      <th></th>\n",
       "      <th></th>\n",
       "      <th>Total population</th>\n",
       "      <th>Cultivated area (arable land + permanent crops)</th>\n",
       "      <th>Gross Domestic Product (GDP)</th>\n",
       "      <th>Total renewable surface water</th>\n",
       "      <th>SDG 6.4.2. Water Stress</th>\n",
       "      <th>Total freshwater withdrawal (primary and secondary)</th>\n",
       "    </tr>\n",
       "    <tr>\n",
       "      <th>Area</th>\n",
       "      <th>YearBin</th>\n",
       "      <th></th>\n",
       "      <th></th>\n",
       "      <th></th>\n",
       "      <th></th>\n",
       "      <th></th>\n",
       "      <th></th>\n",
       "    </tr>\n",
       "  </thead>\n",
       "  <tbody>\n",
       "    <tr>\n",
       "      <th rowspan=\"11\" valign=\"top\">Cuba</th>\n",
       "      <th>1980</th>\n",
       "      <td>9926.000000</td>\n",
       "      <td>3400.0</td>\n",
       "      <td>2.100000e+10</td>\n",
       "      <td>31.64</td>\n",
       "      <td>17.93</td>\n",
       "      <td>5.211</td>\n",
       "    </tr>\n",
       "    <tr>\n",
       "      <th>1985</th>\n",
       "      <td>10270.000000</td>\n",
       "      <td>3730.0</td>\n",
       "      <td>2.520000e+10</td>\n",
       "      <td>31.64</td>\n",
       "      <td>17.93</td>\n",
       "      <td>5.211</td>\n",
       "    </tr>\n",
       "    <tr>\n",
       "      <th>1990</th>\n",
       "      <td>10733.000000</td>\n",
       "      <td>4075.0</td>\n",
       "      <td>2.210000e+10</td>\n",
       "      <td>31.64</td>\n",
       "      <td>17.93</td>\n",
       "      <td>5.211</td>\n",
       "    </tr>\n",
       "    <tr>\n",
       "      <th>1995</th>\n",
       "      <td>11014.000000</td>\n",
       "      <td>4184.0</td>\n",
       "      <td>2.540000e+10</td>\n",
       "      <td>31.64</td>\n",
       "      <td>17.93</td>\n",
       "      <td>5.211</td>\n",
       "    </tr>\n",
       "    <tr>\n",
       "      <th>2000</th>\n",
       "      <td>11218.000000</td>\n",
       "      <td>4237.0</td>\n",
       "      <td>3.360000e+10</td>\n",
       "      <td>31.64</td>\n",
       "      <td>17.46</td>\n",
       "      <td>5.074</td>\n",
       "    </tr>\n",
       "    <tr>\n",
       "      <th>2005</th>\n",
       "      <td>11304.000000</td>\n",
       "      <td>3991.0</td>\n",
       "      <td>5.860000e+10</td>\n",
       "      <td>31.64</td>\n",
       "      <td>16.99</td>\n",
       "      <td>4.937</td>\n",
       "    </tr>\n",
       "    <tr>\n",
       "      <th>2010</th>\n",
       "      <td>11382.000000</td>\n",
       "      <td>3555.0</td>\n",
       "      <td>7.510000e+10</td>\n",
       "      <td>31.64</td>\n",
       "      <td>23.94</td>\n",
       "      <td>6.959</td>\n",
       "    </tr>\n",
       "    <tr>\n",
       "      <th>2015</th>\n",
       "      <td>11485.000000</td>\n",
       "      <td>3472.0</td>\n",
       "      <td>7.510000e+10</td>\n",
       "      <td>31.64</td>\n",
       "      <td>23.94</td>\n",
       "      <td>6.959</td>\n",
       "    </tr>\n",
       "    <tr>\n",
       "      <th>2020</th>\n",
       "      <td>11519.496371</td>\n",
       "      <td>NaN</td>\n",
       "      <td>8.791003e+10</td>\n",
       "      <td>NaN</td>\n",
       "      <td>NaN</td>\n",
       "      <td>NaN</td>\n",
       "    </tr>\n",
       "    <tr>\n",
       "      <th>2025</th>\n",
       "      <td>11554.096355</td>\n",
       "      <td>NaN</td>\n",
       "      <td>1.029051e+11</td>\n",
       "      <td>NaN</td>\n",
       "      <td>NaN</td>\n",
       "      <td>NaN</td>\n",
       "    </tr>\n",
       "    <tr>\n",
       "      <th>2030</th>\n",
       "      <td>11588.800264</td>\n",
       "      <td>NaN</td>\n",
       "      <td>1.204579e+11</td>\n",
       "      <td>NaN</td>\n",
       "      <td>NaN</td>\n",
       "      <td>NaN</td>\n",
       "    </tr>\n",
       "  </tbody>\n",
       "</table>\n",
       "</div>"
      ],
      "text/plain": [
       "              Total population  \\\n",
       "Area YearBin                     \n",
       "Cuba 1980          9926.000000   \n",
       "     1985         10270.000000   \n",
       "     1990         10733.000000   \n",
       "     1995         11014.000000   \n",
       "     2000         11218.000000   \n",
       "     2005         11304.000000   \n",
       "     2010         11382.000000   \n",
       "     2015         11485.000000   \n",
       "     2020         11519.496371   \n",
       "     2025         11554.096355   \n",
       "     2030         11588.800264   \n",
       "\n",
       "              Cultivated area (arable land + permanent crops)  \\\n",
       "Area YearBin                                                    \n",
       "Cuba 1980                                              3400.0   \n",
       "     1985                                              3730.0   \n",
       "     1990                                              4075.0   \n",
       "     1995                                              4184.0   \n",
       "     2000                                              4237.0   \n",
       "     2005                                              3991.0   \n",
       "     2010                                              3555.0   \n",
       "     2015                                              3472.0   \n",
       "     2020                                                 NaN   \n",
       "     2025                                                 NaN   \n",
       "     2030                                                 NaN   \n",
       "\n",
       "              Gross Domestic Product (GDP)  Total renewable surface water  \\\n",
       "Area YearBin                                                                \n",
       "Cuba 1980                     2.100000e+10                          31.64   \n",
       "     1985                     2.520000e+10                          31.64   \n",
       "     1990                     2.210000e+10                          31.64   \n",
       "     1995                     2.540000e+10                          31.64   \n",
       "     2000                     3.360000e+10                          31.64   \n",
       "     2005                     5.860000e+10                          31.64   \n",
       "     2010                     7.510000e+10                          31.64   \n",
       "     2015                     7.510000e+10                          31.64   \n",
       "     2020                     8.791003e+10                            NaN   \n",
       "     2025                     1.029051e+11                            NaN   \n",
       "     2030                     1.204579e+11                            NaN   \n",
       "\n",
       "              SDG 6.4.2. Water Stress  \\\n",
       "Area YearBin                            \n",
       "Cuba 1980                       17.93   \n",
       "     1985                       17.93   \n",
       "     1990                       17.93   \n",
       "     1995                       17.93   \n",
       "     2000                       17.46   \n",
       "     2005                       16.99   \n",
       "     2010                       23.94   \n",
       "     2015                       23.94   \n",
       "     2020                         NaN   \n",
       "     2025                         NaN   \n",
       "     2030                         NaN   \n",
       "\n",
       "              Total freshwater withdrawal (primary and secondary)  \n",
       "Area YearBin                                                       \n",
       "Cuba 1980                                                 5.211    \n",
       "     1985                                                 5.211    \n",
       "     1990                                                 5.211    \n",
       "     1995                                                 5.211    \n",
       "     2000                                                 5.074    \n",
       "     2005                                                 4.937    \n",
       "     2010                                                 6.959    \n",
       "     2015                                                 6.959    \n",
       "     2020                                                   NaN    \n",
       "     2025                                                   NaN    \n",
       "     2030                                                   NaN    "
      ]
     },
     "execution_count": 263,
     "metadata": {},
     "output_type": "execute_result"
    }
   ],
   "source": [
    "new_data.loc[('Cuba', All), :]"
   ]
  },
  {
   "cell_type": "code",
   "execution_count": 264,
   "metadata": {},
   "outputs": [],
   "source": [
    "new_data.to_csv('training_data_rate.csv')"
   ]
  },
  {
   "cell_type": "code",
   "execution_count": null,
   "metadata": {},
   "outputs": [],
   "source": []
  }
 ],
 "metadata": {
  "kernelspec": {
   "display_name": "Python 3",
   "language": "python",
   "name": "python3"
  },
  "language_info": {
   "codemirror_mode": {
    "name": "ipython",
    "version": 3
   },
   "file_extension": ".py",
   "mimetype": "text/x-python",
   "name": "python",
   "nbconvert_exporter": "python",
   "pygments_lexer": "ipython3",
   "version": "3.6.1"
  }
 },
 "nbformat": 4,
 "nbformat_minor": 2
}
