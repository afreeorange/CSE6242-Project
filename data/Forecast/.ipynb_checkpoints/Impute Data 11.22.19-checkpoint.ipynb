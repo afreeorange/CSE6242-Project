{
 "cells": [
  {
   "cell_type": "code",
   "execution_count": 1,
   "metadata": {},
   "outputs": [],
   "source": [
    "import pandas as pd\n",
    "import numpy as np\n",
    "import sqlite3\n",
    "from itertools import product\n",
    "pd.set_option('display.max_columns', 500)\n",
    "\n",
    "import matplotlib.pyplot as plt\n",
    "\n",
    "conn = sqlite3.connect(r'C:\\Users\\Spencer\\Environments\\aquastaat\\project.db')\n",
    "conn.text_factory = lambda x: str(x, 'latin1')\n",
    "\n",
    "data = pd.read_sql(\"SELECT * FROM parameter\", conn)"
   ]
  },
  {
   "cell_type": "code",
   "execution_count": 2,
   "metadata": {},
   "outputs": [],
   "source": [
    "def remove_blanks(data):\n",
    "    print('Before: ', data.shape)\n",
    "    data.loc[data.loc[:,'Value']=='','Value'] = None\n",
    "    data.dropna(axis=0, how='any', inplace=True)\n",
    "    print('After: ', data.shape)\n",
    "    \n",
    "def label_bin(year, year_bins, bin_labels):\n",
    "    return bin_labels[len(list(filter(lambda y: y < year, year_bins)))-1]\n",
    "    \n",
    "def bin_year(data):\n",
    "    year_bins = [y for y in range(1978, 2020, 5)]\n",
    "    bin_labels = [l for l in range(1980, 2020, 5)]\n",
    "    data['YearBin'] = data['Year'].apply(lambda x: label_bin(x, year_bins, bin_labels))"
   ]
  },
  {
   "cell_type": "code",
   "execution_count": 3,
   "metadata": {},
   "outputs": [
    {
     "name": "stdout",
     "output_type": "stream",
     "text": [
      "Before:  (122853, 6)\n",
      "After:  (122740, 6)\n"
     ]
    }
   ],
   "source": [
    "remove_blanks(data)\n",
    "bin_year(data)\n",
    "data['Value'] = data['Value'].astype(float)"
   ]
  },
  {
   "cell_type": "code",
   "execution_count": 4,
   "metadata": {},
   "outputs": [],
   "source": [
    "data.drop(axis=1, labels=['VariableId', 'AreaId', 'Year'], inplace=True)"
   ]
  },
  {
   "cell_type": "code",
   "execution_count": 5,
   "metadata": {},
   "outputs": [],
   "source": [
    "All = slice(None)\n",
    "WSI = 'SDG 6.4.2. Water Stress'\n",
    "TFW = 'Total freshwater withdrawal (primary and secondary)'"
   ]
  },
  {
   "cell_type": "code",
   "execution_count": 6,
   "metadata": {},
   "outputs": [],
   "source": [
    "data = data.pivot_table(index=['Area', 'YearBin'], columns='VariableName', values='Value', aggfunc=np.mean)"
   ]
  },
  {
   "cell_type": "code",
   "execution_count": 7,
   "metadata": {},
   "outputs": [],
   "source": [
    "wsi_null = data.loc[:,'SDG 6.4.2. Water Stress'].isnull()\n",
    "data = data.loc[~wsi_null,:]\n",
    "data.reset_index(inplace=True)\n",
    "data.set_index(['Area', 'YearBin'], inplace=True)\n",
    "null_cols = pd.DataFrame({'column':data.isnull().sum().index, 'nulls':data.isnull().sum().values})\n",
    "usable_cols = null_cols.loc[null_cols.loc[:,'nulls']<data.shape[0]*.1,'column'].values\n",
    "data = data.loc[:, data.columns.isin(usable_cols)]"
   ]
  },
  {
   "cell_type": "code",
   "execution_count": 8,
   "metadata": {},
   "outputs": [],
   "source": [
    "static_cols = [\n",
    "    'Dependency ratio',\n",
    "    'Groundwater',\n",
    "    'Long-term',\n",
    "    'Overlap',\n",
    "    'Surface',\n",
    "    'Total area of the country (excl. coastal waters)',\n",
    "    'Total internal renewable water resources (IRWR)',\n",
    "    'Total renewable groundwater',\n",
    "    'Total renewable water resources',\n",
    "    'Water resources: total external renewable',\n",
    "]"
   ]
  },
  {
   "cell_type": "code",
   "execution_count": 9,
   "metadata": {},
   "outputs": [],
   "source": [
    "cols = data.columns\n",
    "dyn_cols = []\n",
    "for c in cols:\n",
    "    if not any([1 for s in static_cols if s in c]):\n",
    "        dyn_cols.append(c)  \n",
    "\n",
    "data = data.loc[:, dyn_cols]"
   ]
  },
  {
   "cell_type": "code",
   "execution_count": 10,
   "metadata": {},
   "outputs": [],
   "source": [
    "areas = data.index.levels[0]\n",
    "bin_labels = [l for l in range(1980, 2020, 5)]\n",
    "data_viz = pd.DataFrame(list(product(areas, bin_labels)), columns=['Area', 'YearBin'])\n",
    "data_viz.set_index(['Area', 'YearBin'], inplace=True)\n",
    "data_viz = data_viz.join(data, how='left')"
   ]
  },
  {
   "cell_type": "code",
   "execution_count": 11,
   "metadata": {},
   "outputs": [],
   "source": [
    "tfw_predictors = [\n",
    "    'Total population',\n",
    "    'Cultivated area (arable land + permanent crops)',\n",
    "    'Gross Domestic Product (GDP)',\n",
    "    'Total renewable surface water',\n",
    "]"
   ]
  },
  {
   "cell_type": "code",
   "execution_count": 21,
   "metadata": {},
   "outputs": [],
   "source": [
    "training_data = data_viz.loc[:, tfw_predictors + [WSI, TFW]]\n",
    "training_data = training_data.groupby('Area').apply(lambda x: x.interpolate(limit_direction='both'))"
   ]
  },
  {
   "cell_type": "code",
   "execution_count": 26,
   "metadata": {},
   "outputs": [],
   "source": [
    "training_data.to_csv('training_data.csv')"
   ]
  },
  {
   "cell_type": "code",
   "execution_count": null,
   "metadata": {},
   "outputs": [],
   "source": []
  }
 ],
 "metadata": {
  "kernelspec": {
   "display_name": "Python 3",
   "language": "python",
   "name": "python3"
  },
  "language_info": {
   "codemirror_mode": {
    "name": "ipython",
    "version": 3
   },
   "file_extension": ".py",
   "mimetype": "text/x-python",
   "name": "python",
   "nbconvert_exporter": "python",
   "pygments_lexer": "ipython3",
   "version": "3.6.1"
  }
 },
 "nbformat": 4,
 "nbformat_minor": 2
}
