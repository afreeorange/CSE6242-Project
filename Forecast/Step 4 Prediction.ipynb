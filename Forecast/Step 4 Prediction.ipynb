{
 "cells": [
  {
   "cell_type": "code",
   "execution_count": 1,
   "metadata": {},
   "outputs": [],
   "source": [
    "import numpy as np\n",
    "import pandas as pd\n",
    "import sqlite3\n",
    "from sklearn.linear_model import LinearRegression\n",
    "from sklearn.neural_network import MLPClassifier\n",
    "from sklearn.ensemble import RandomForestRegressor\n",
    "from sklearn.model_selection import cross_val_score, GridSearchCV, cross_validate, train_test_split\n",
    "from sklearn.metrics import mean_squared_error, r2_score\n",
    "from sklearn.preprocessing import OneHotEncoder"
   ]
  },
  {
   "cell_type": "code",
   "execution_count": 2,
   "metadata": {},
   "outputs": [],
   "source": [
    "conn = sqlite3.connect(r'C:\\Users\\Spencer\\Environments\\aquastaat\\project.db')\n",
    "conn.text_factory = lambda x: str(x, 'latin1')\n",
    "\n",
    "water = pd.read_sql(\"SELECT * FROM parameter\", conn)"
   ]
  },
  {
   "cell_type": "code",
   "execution_count": 3,
   "metadata": {},
   "outputs": [],
   "source": [
    "All = slice(None)\n",
    "\n",
    "pop = 'Total population'\n",
    "cult = 'Cultivated area (arable land + permanent crops)'\n",
    "gdp = 'Gross Domestic Product (GDP)'\n",
    "trsw = 'Total renewable surface water'\n",
    "tfw = 'Total freshwater withdrawal (primary and secondary)'\n",
    "trwr = 'Total renewable water resources'\n",
    "efr = 'Environmental Flow Requirements'\n",
    "wsi = 'SDG 6.4.2. Water Stress'\n",
    "\n",
    "preds = [cult, gdp, pop, trsw]\n",
    "\n",
    "trwr_id = 4188\n",
    "efr_id = 4549"
   ]
  },
  {
   "cell_type": "code",
   "execution_count": 4,
   "metadata": {},
   "outputs": [],
   "source": [
    "data = pd.read_csv('training_data_arima.csv')\n",
    "df_model = data.copy()\n",
    "data.set_index(['Area', 'YearBin'], inplace=True)"
   ]
  },
  {
   "cell_type": "code",
   "execution_count": 5,
   "metadata": {},
   "outputs": [
    {
     "name": "stdout",
     "output_type": "stream",
     "text": [
      "1336\n"
     ]
    }
   ],
   "source": [
    "# df_model.columns = df_model.columns.droplevel()\n",
    "df_model.rename(columns={'Cultivated area (arable land + permanent crops)':'cultivated_area', 'Gross Domestic Product (GDP)':'GDP', 'Total freshwater withdrawal (primary and secondary)':'TFW', 'Total population':'total_population', 'Total renewable surface water':'TRSW'}, inplace=True)\n",
    "df_model.rename_axis(None, inplace=True)\n",
    "\n",
    "# Remove rows that contains NaN\n",
    "df_model.dropna(inplace=True)\n",
    "print(len(df_model.index))"
   ]
  },
  {
   "cell_type": "code",
   "execution_count": 6,
   "metadata": {},
   "outputs": [
    {
     "name": "stderr",
     "output_type": "stream",
     "text": [
      "c:\\users\\spencer\\appdata\\local\\programs\\python\\python36\\lib\\site-packages\\sklearn\\ensemble\\forest.py:245: FutureWarning: The default value of n_estimators will change from 10 in version 0.20 to 100 in 0.22.\n",
      "  \"10 in version 0.20 to 100 in 0.22.\", FutureWarning)\n"
     ]
    },
    {
     "name": "stdout",
     "output_type": "stream",
     "text": [
      "{'max_depth': 15, 'n_estimators': 30}\n",
      "0.9385050033887423\n",
      "Training MSE: 31.90\n",
      "Test MSE: 284.07\n",
      "Training adj R2: 0.99\n",
      "Test adj R2: 0.95\n"
     ]
    }
   ],
   "source": [
    "x_data = df_model[['cultivated_area', 'GDP', 'total_population', 'TRSW',]]\n",
    "y_data = df_model['TFW']\n",
    "\n",
    "## One-hot encoding\n",
    "# enc = OneHotEncoder(handle_unknown='ignore')\n",
    "# x_data = enc.fit_transform(x_data)\n",
    "\n",
    "## Split data\n",
    "x_train, x_test, y_train, y_test = train_test_split(x_data, y_data, train_size=0.75, random_state=100, shuffle=True)\n",
    "\n",
    "## Build a random forest regressor\n",
    "random = 100\n",
    "RF_clf = RandomForestRegressor(bootstrap=True, criterion='mse',random_state=random)\n",
    "RF_clf.fit(x_train, y_train)\n",
    "RF_param_grid = {\"n_estimators\":[10, 20, 30,  50,100], \"max_depth\": [5, 10, 15, 20, None]}\n",
    "\n",
    "## Optimize the randomForest regressor\n",
    "RF_grid_search = GridSearchCV(RF_clf, param_grid=RF_param_grid, n_jobs=-1, cv=3)\n",
    "RF_grid_search.fit(x_train, y_train)\n",
    "print(RF_grid_search.best_params_)\n",
    "print(RF_grid_search.best_score_)\n",
    "\n",
    "## Define optimum randomForest regressor\n",
    "opt_RF = RandomForestRegressor(bootstrap=True, criterion='mse',random_state=random, n_estimators=RF_grid_search.best_params_['n_estimators'], max_depth=RF_grid_search.best_params_['max_depth'])\n",
    "opt_RF.fit(x_train, y_train)\n",
    "RF_tr_pred = opt_RF.predict(x_train)\n",
    "print(\"Training MSE: %.2f\" %mean_squared_error(y_train, RF_tr_pred))\n",
    "RF_test_pred = opt_RF.predict(x_test)\n",
    "print(\"Test MSE: %.2f\" %mean_squared_error(y_test, RF_test_pred))\n",
    "\n",
    "## Calculate adjusted R-squared\n",
    "# n1 = number of data points for training set\n",
    "# n2 = number of data points for test set\n",
    "# p = number of predictors / attributes\n",
    "n1 = len(y_train)\n",
    "p=4\n",
    "n2 = len(y_test)\n",
    "train_adj_r2 = 1-(1-r2_score(y_train, RF_tr_pred))*(n1-1)/(n1-p-1)\n",
    "test_adj_r2 = 1-(1-r2_score(y_test, RF_test_pred))*(n2-1)/(n2-p-1)\n",
    "print(\"Training adj R2: %.2f\" %train_adj_r2) \n",
    "print(\"Test adj R2: %.2f\" %test_adj_r2) "
   ]
  },
  {
   "cell_type": "code",
   "execution_count": 7,
   "metadata": {},
   "outputs": [],
   "source": [
    "tfw_preds = opt_RF.predict(data.loc[(All, [2020, 2025, 2030]), preds].values)\n",
    "data.loc[(All, [2020, 2025, 2030]), tfw] = tfw_preds"
   ]
  },
  {
   "cell_type": "code",
   "execution_count": 8,
   "metadata": {},
   "outputs": [],
   "source": [
    "water.set_index(['Area', 'VariableId'], inplace=True)\n",
    "water.sort_index(inplace=True)\n",
    "water = water.loc[(All, [trwr_id, efr_id]), ['Value']]\n",
    "water.fillna(0, inplace=True)\n",
    "water.loc[water.loc[:,'Value']=='', :] = 0"
   ]
  },
  {
   "cell_type": "code",
   "execution_count": 9,
   "metadata": {
    "scrolled": true
   },
   "outputs": [],
   "source": [
    "data[trwr] = None\n",
    "data[efr] = None\n",
    "for name, group in data.groupby('Area'):\n",
    "    if (name, trwr_id) in water.index:\n",
    "        data.loc[(name, All), trwr] = water.at[(name, trwr_id), 'Value'].max()\n",
    "    if (name, efr_id) in water.index:\n",
    "        data.loc[(name, All), efr] = water.at[(name, efr_id), 'Value'].max()"
   ]
  },
  {
   "cell_type": "code",
   "execution_count": 10,
   "metadata": {},
   "outputs": [],
   "source": [
    "data[wsi] = 100*data[tfw]/(data[trwr] - data[efr])"
   ]
  },
  {
   "cell_type": "code",
   "execution_count": 11,
   "metadata": {},
   "outputs": [],
   "source": [
    "data.dropna(axis=0, inplace=True)"
   ]
  },
  {
   "cell_type": "code",
   "execution_count": null,
   "metadata": {},
   "outputs": [],
   "source": [
    "view = (group.loc[:, [tfw]] for name, group in data.groupby('Area'))"
   ]
  },
  {
   "cell_type": "code",
   "execution_count": null,
   "metadata": {},
   "outputs": [],
   "source": [
    "next(view)"
   ]
  },
  {
   "cell_type": "code",
   "execution_count": 12,
   "metadata": {},
   "outputs": [],
   "source": [
    "data.to_csv('output_gdp0_pop0.csv')"
   ]
  },
  {
   "cell_type": "markdown",
   "metadata": {},
   "source": [
    "Save model"
   ]
  },
  {
   "cell_type": "code",
   "execution_count": 13,
   "metadata": {},
   "outputs": [],
   "source": [
    "import pickle"
   ]
  },
  {
   "cell_type": "code",
   "execution_count": 14,
   "metadata": {},
   "outputs": [],
   "source": [
    "pickle.dump(opt_RF, open('random_forest.sav', 'wb'))"
   ]
  },
  {
   "cell_type": "code",
   "execution_count": null,
   "metadata": {},
   "outputs": [],
   "source": []
  }
 ],
 "metadata": {
  "kernelspec": {
   "display_name": "Python 3",
   "language": "python",
   "name": "python3"
  },
  "language_info": {
   "codemirror_mode": {
    "name": "ipython",
    "version": 3
   },
   "file_extension": ".py",
   "mimetype": "text/x-python",
   "name": "python",
   "nbconvert_exporter": "python",
   "pygments_lexer": "ipython3",
   "version": "3.6.1"
  }
 },
 "nbformat": 4,
 "nbformat_minor": 2
}
