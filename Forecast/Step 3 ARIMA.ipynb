{
 "cells": [
  {
   "cell_type": "code",
   "execution_count": 1,
   "metadata": {
    "scrolled": true
   },
   "outputs": [],
   "source": [
    "import pandas as pd\n",
    "import numpy as np\n",
    "pd.set_option(\"display.max_columns\", 500)\n",
    "\n",
    "import matplotlib.pyplot as plt"
   ]
  },
  {
   "cell_type": "code",
   "execution_count": 2,
   "metadata": {},
   "outputs": [],
   "source": [
    "data = pd.read_csv('training_data_rate.csv')\n",
    "data.set_index(['Area', 'YearBin'], inplace=True)"
   ]
  },
  {
   "cell_type": "code",
   "execution_count": 3,
   "metadata": {},
   "outputs": [],
   "source": [
    "All = slice(None)\n",
    "c_area = 'Cultivated area (arable land + permanent crops)'\n",
    "cult = pd.read_csv('predicted_cultivated_area_v2.csv', encoding='latin1')\n",
    "cult = cult.iloc[:, 1:]\n",
    "cult.set_index('Area', inplace=True)"
   ]
  },
  {
   "cell_type": "code",
   "execution_count": 4,
   "metadata": {
    "scrolled": true
   },
   "outputs": [],
   "source": [
    "for name, row in cult.iterrows():\n",
    "    data.at[(name, 2020), c_area] = row['Y2020']\n",
    "    data.at[(name, 2025), c_area] = row['Y2025']\n",
    "    data.at[(name, 2030), c_area] = row['Y2030']"
   ]
  },
  {
   "cell_type": "code",
   "execution_count": 5,
   "metadata": {},
   "outputs": [],
   "source": [
    "c_trsw = 'Total renewable surface water'\n",
    "trsw = pd.read_csv('predicted_TRSW_v2.csv', encoding='latin1')\n",
    "trsw = trsw.iloc[:, 1:]\n",
    "trsw.set_index('Area', inplace=True)"
   ]
  },
  {
   "cell_type": "code",
   "execution_count": 6,
   "metadata": {},
   "outputs": [],
   "source": [
    "for name, row in trsw.iterrows():\n",
    "    data.at[(name, 2020), c_trsw] = row['Y2020']\n",
    "    data.at[(name, 2025), c_trsw] = row['Y2025']\n",
    "    data.at[(name, 2030), c_trsw] = row['Y2030']"
   ]
  },
  {
   "cell_type": "code",
   "execution_count": 7,
   "metadata": {},
   "outputs": [],
   "source": [
    "data = data.loc[(~data.loc[:,'Total population'].isna()) &\n",
    "                (~data.loc[:, c_area].isna()),:]"
   ]
  },
  {
   "cell_type": "code",
   "execution_count": 8,
   "metadata": {},
   "outputs": [],
   "source": [
    "data.to_csv('training_data_arima.csv')"
   ]
  },
  {
   "cell_type": "code",
   "execution_count": null,
   "metadata": {},
   "outputs": [],
   "source": []
  }
 ],
 "metadata": {
  "kernelspec": {
   "display_name": "Python 3",
   "language": "python",
   "name": "python3"
  },
  "language_info": {
   "codemirror_mode": {
    "name": "ipython",
    "version": 3
   },
   "file_extension": ".py",
   "mimetype": "text/x-python",
   "name": "python",
   "nbconvert_exporter": "python",
   "pygments_lexer": "ipython3",
   "version": "3.6.1"
  }
 },
 "nbformat": 4,
 "nbformat_minor": 2
}
